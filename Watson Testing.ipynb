{
    "cells": [
        {
            "cell_type": "markdown",
            "metadata": {
                "collapsed": true
            },
            "source": "# My Jupyter Notebook on IBM Watson Studio"
        },
        {
            "cell_type": "markdown",
            "metadata": {},
            "source": "### Dipta Roy"
        },
        {
            "cell_type": "markdown",
            "metadata": {},
            "source": "I'm a data scientist refreshing my data science skills"
        },
        {
            "cell_type": "markdown",
            "metadata": {},
            "source": "*I am interested in data science especially because of he machine learning aspects of it*"
        },
        {
            "cell_type": "markdown",
            "metadata": {},
            "source": "### Find the multiples of a number provided the number and a limit"
        },
        {
            "cell_type": "code",
            "execution_count": 13,
            "metadata": {},
            "outputs": [],
            "source": "def multiples(num, limit):\n    answer =0\n    while limit>0:\n        answer+=num\n        print (answer)\n        limit-=1"
        },
        {
            "cell_type": "code",
            "execution_count": 14,
            "metadata": {},
            "outputs": [
                {
                    "name": "stdout",
                    "output_type": "stream",
                    "text": "5\n10\n15\n20\n25\n"
                }
            ],
            "source": "multiples(5, 5)"
        },
        {
            "cell_type": "markdown",
            "metadata": {},
            "source": "- one\n- two\n- three"
        }
    ],
    "metadata": {
        "kernelspec": {
            "display_name": "Python 3.7",
            "language": "python",
            "name": "python3"
        },
        "language_info": {
            "codemirror_mode": {
                "name": "ipython",
                "version": 3
            },
            "file_extension": ".py",
            "mimetype": "text/x-python",
            "name": "python",
            "nbconvert_exporter": "python",
            "pygments_lexer": "ipython3",
            "version": "3.7.9"
        }
    },
    "nbformat": 4,
    "nbformat_minor": 1
}